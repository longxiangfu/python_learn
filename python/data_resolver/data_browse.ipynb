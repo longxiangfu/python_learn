{
 "cells": [
  {
   "cell_type": "code",
   "execution_count": null,
   "metadata": {
    "collapsed": true
   },
   "outputs": [],
   "source": [
    "import numpy as py\n",
    "import pandas as pd\n",
    "import seaborn as sb\n",
    "from matplotlib import pyplot as plt\n",
    "import os\n",
    "\n",
    "dirpath = 'E:\\\\pycharmWork\\\\python\\\\data_resolver'\n",
    "data = pd.read_csv(os.path.join(dirpath, 'athlete_events.csv'))\n",
    "region = pd.read_csv(os.path.join(dirpath, 'noc_regions.csv'))"
   ]
  },
  {
   "cell_type": "code",
   "execution_count": null,
   "metadata": {
    "collapsed": false
   },
   "outputs": [
    {
     "name": "stdout",
     "output_type": "stream",
     "text": [
      "   ID                      Name Sex   Age  Height  Weight            Team  \\\n0   1                 A Dijiang   M  24.0   180.0    80.0           China   \n1   2                  A Lamusi   M  23.0   170.0    60.0           China   \n2   3       Gunnar Nielsen Aaby   M  24.0     NaN     NaN         Denmark   \n3   4      Edgar Lindenau Aabye   M  34.0     NaN     NaN  Denmark/Sweden   \n4   5  Christine Jacoba Aaftink   F  21.0   185.0    82.0     Netherlands   \n\n   NOC        Games  Year  Season       City          Sport  \\\n0  CHN  1992 Summer  1992  Summer  Barcelona     Basketball   \n1  CHN  2012 Summer  2012  Summer     London           Judo   \n2  DEN  1920 Summer  1920  Summer  Antwerpen       Football   \n3  DEN  1900 Summer  1900  Summer      Paris     Tug-Of-War   \n4  NED  1988 Winter  1988  Winter    Calgary  Speed Skating   \n\n                              Event Medal  \n0       Basketball Men's Basketball   NaN  \n1      Judo Men's Extra-Lightweight   NaN  \n2           Football Men's Football   NaN  \n3       Tug-Of-War Men's Tug-Of-War  Gold  \n4  Speed Skating Women's 500 metres   NaN  \n"
     ]
    }
   ],
   "source": [
    "# 前5行\n",
    "head5 = data.head(5)\n",
    "print(head5)"
   ]
  },
  {
   "cell_type": "code",
   "execution_count": 37,
   "metadata": {
    "collapsed": false
   },
   "outputs": [
    {
     "name": "stdout",
     "output_type": "stream",
     "text": [
      "                  ID            Age         Height         Weight  \\\ncount  271116.000000  261642.000000  210945.000000  208241.000000   \nmean    68248.954396      25.556898     175.338970      70.702393   \nstd     39022.286345       6.393561      10.518462      14.348020   \nmin         1.000000      10.000000     127.000000      25.000000   \n25%     34643.000000      21.000000     168.000000      60.000000   \n50%     68205.000000      24.000000     175.000000      70.000000   \n75%    102097.250000      28.000000     183.000000      79.000000   \nmax    135571.000000      97.000000     226.000000     214.000000   \n\n                Year  \ncount  271116.000000  \nmean     1978.378480  \nstd        29.877632  \nmin      1896.000000  \n25%      1960.000000  \n50%      1988.000000  \n75%      2002.000000  \nmax      2016.000000  \n"
     ]
    }
   ],
   "source": [
    "# 生成描述信息，数据分布的集中趋势，离散度\n",
    "des = data.describe()\n",
    "print(des)"
   ]
  },
  {
   "cell_type": "code",
   "execution_count": 33,
   "metadata": {
    "collapsed": false
   },
   "outputs": [
    {
     "name": "stdout",
     "output_type": "stream",
     "text": [
      "<class 'pandas.core.frame.DataFrame'>\nRangeIndex: 271116 entries, 0 to 271115\nData columns (total 15 columns):\nID        271116 non-null int64\nName      271116 non-null object\nSex       271116 non-null object\nAge       261642 non-null float64\nHeight    210945 non-null float64\nWeight    208241 non-null float64\nTeam      271116 non-null object\nNOC       271116 non-null object\nGames     271116 non-null object\nYear      271116 non-null int64\nSeason    271116 non-null object\nCity      271116 non-null object\nSport     271116 non-null object\nEvent     271116 non-null object\nMedal     39783 non-null object\ndtypes: float64(3), int64(2), object(10)\nmemory usage: 31.0+ MB\n"
     ]
    }
   ],
   "source": [
    "# data的信息\n",
    "data.info()"
   ]
  },
  {
   "cell_type": "code",
   "execution_count": 26,
   "metadata": {
    "collapsed": false
   },
   "outputs": [
    {
     "name": "stdout",
     "output_type": "stream",
     "text": [
      "   NOC       region                 notes\n0  AFG  Afghanistan                   NaN\n1  AHO      Curacao  Netherlands Antilles\n2  ALB      Albania                   NaN\n3  ALG      Algeria                   NaN\n4  AND      Andorra                   NaN\n"
     ]
    }
   ],
   "source": [
    "region_head5 = region.head(5)\n",
    "print(region_head5)"
   ]
  },
  {
   "cell_type": "code",
   "execution_count": 24,
   "metadata": {},
   "outputs": [
    {
     "name": "stdout",
     "output_type": "stream",
     "text": [
      "   ID                      Name Sex   Age  Height  Weight            Team  \\\n0   1                 A Dijiang   M  24.0   180.0    80.0           China   \n1   2                  A Lamusi   M  23.0   170.0    60.0           China   \n2   3       Gunnar Nielsen Aaby   M  24.0     NaN     NaN         Denmark   \n3   4      Edgar Lindenau Aabye   M  34.0     NaN     NaN  Denmark/Sweden   \n4   5  Christine Jacoba Aaftink   F  21.0   185.0    82.0     Netherlands   \n\n   NOC        Games  Year  Season       City          Sport  \\\n0  CHN  1992 Summer  1992  Summer  Barcelona     Basketball   \n1  CHN  2012 Summer  2012  Summer     London           Judo   \n2  DEN  1920 Summer  1920  Summer  Antwerpen       Football   \n3  DEN  1900 Summer  1900  Summer      Paris     Tug-Of-War   \n4  NED  1988 Winter  1988  Winter    Calgary  Speed Skating   \n\n                              Event Medal       region notes  \n0       Basketball Men's Basketball   NaN        China   NaN  \n1      Judo Men's Extra-Lightweight   NaN        China   NaN  \n2           Football Men's Football   NaN      Denmark   NaN  \n3       Tug-Of-War Men's Tug-Of-War  Gold      Denmark   NaN  \n4  Speed Skating Women's 500 metres   NaN  Netherlands   NaN  \n"
     ]
    }
   ],
   "source": [
    "# 将data和region进行左连接，同mysql的左连接\n",
    "merged = pd.merge(data, region, on='NOC', how='left')\n",
    "merged_head5 = merged.head(5)\n",
    "print(merged_head5)"
   ]
  },
  {
   "cell_type": "code",
   "execution_count": null,
   "metadata": {},
   "outputs": [],
   "source": []
  }
 ],
 "metadata": {
  "kernelspec": {
   "display_name": "Python 2",
   "language": "python",
   "name": "python2"
  },
  "language_info": {
   "codemirror_mode": {
    "name": "ipython",
    "version": 2
   },
   "file_extension": ".py",
   "mimetype": "text/x-python",
   "name": "python",
   "nbconvert_exporter": "python",
   "pygments_lexer": "ipython2",
   "version": "2.7.6"
  }
 },
 "nbformat": 4,
 "nbformat_minor": 0
}
